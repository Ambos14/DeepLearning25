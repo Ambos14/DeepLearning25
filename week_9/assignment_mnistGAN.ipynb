{
  "cells": [
    {
      "cell_type": "markdown",
      "metadata": {
        "id": "9JCiZj8OVZOA",
        "papermill": {
          "duration": 0.010897,
          "end_time": "2020-08-17T09:55:39.401285",
          "exception": false,
          "start_time": "2020-08-17T09:55:39.390388",
          "status": "completed"
        },
        "tags": []
      },
      "source": [
        "# Asignemnt: MNIST GAN\n",
        "## Load the Data\n",
        "\n",
        "We begin by downloading and importing the data as a PyTorch dataset using the `MNIST` helper class from `torchvision.datasets`."
      ]
    },
    {
      "cell_type": "code",
      "execution_count": 1,
      "metadata": {
        "colab": {
          "base_uri": "https://localhost:8080/"
        },
        "execution": {
          "iopub.execute_input": "2020-08-17T09:55:39.430976Z",
          "iopub.status.busy": "2020-08-17T09:55:39.430373Z",
          "iopub.status.idle": "2020-08-17T09:55:42.664332Z",
          "shell.execute_reply": "2020-08-17T09:55:42.665107Z"
        },
        "id": "UyBhQNYFVZOB",
        "outputId": "068afcfe-9ffc-4655-bb53-c4e6fbcbc9c8",
        "papermill": {
          "duration": 3.252756,
          "end_time": "2020-08-17T09:55:42.665363",
          "exception": false,
          "start_time": "2020-08-17T09:55:39.412607",
          "status": "completed"
        },
        "tags": []
      },
      "outputs": [
        {
          "output_type": "stream",
          "name": "stderr",
          "text": [
            "100%|██████████| 9.91M/9.91M [00:00<00:00, 11.4MB/s]\n",
            "100%|██████████| 28.9k/28.9k [00:00<00:00, 341kB/s]\n",
            "100%|██████████| 1.65M/1.65M [00:00<00:00, 3.17MB/s]\n",
            "100%|██████████| 4.54k/4.54k [00:00<00:00, 3.42MB/s]\n"
          ]
        }
      ],
      "source": [
        "import torch\n",
        "import torchvision\n",
        "from torchvision.transforms import ToTensor, Normalize, Compose\n",
        "from torchvision.datasets import MNIST\n",
        "\n",
        "mnist = MNIST(root='data',\n",
        "              train=True,\n",
        "              download=True,\n",
        "              transform=Compose([ToTensor(), Normalize(mean=(0.5,), std=(0.5,))]))"
      ]
    },
    {
      "cell_type": "markdown",
      "metadata": {
        "id": "8KZFYl-KVZOD",
        "papermill": {
          "duration": 0.012072,
          "end_time": "2020-08-17T09:55:42.690789",
          "exception": false,
          "start_time": "2020-08-17T09:55:42.678717",
          "status": "completed"
        },
        "tags": []
      },
      "source": [
        "Note that we are are transforming the pixel values from the range `[0, 1]` to the range `[-1, 1]`. Makes generation easier..."
      ]
    },
    {
      "cell_type": "code",
      "execution_count": 2,
      "metadata": {
        "colab": {
          "base_uri": "https://localhost:8080/"
        },
        "execution": {
          "iopub.execute_input": "2020-08-17T09:55:42.725122Z",
          "iopub.status.busy": "2020-08-17T09:55:42.724389Z",
          "iopub.status.idle": "2020-08-17T09:55:42.788396Z",
          "shell.execute_reply": "2020-08-17T09:55:42.782500Z"
        },
        "id": "ZFBOkKZkVZOD",
        "outputId": "b0708446-3525-4597-b0ae-b946bc4de0d4",
        "papermill": {
          "duration": 0.085619,
          "end_time": "2020-08-17T09:55:42.788514",
          "exception": false,
          "start_time": "2020-08-17T09:55:42.702895",
          "status": "completed"
        },
        "tags": []
      },
      "outputs": [
        {
          "output_type": "stream",
          "name": "stdout",
          "text": [
            "Label:  5\n",
            "tensor([[[-0.9922,  0.2078,  0.9843, -0.2941, -1.0000],\n",
            "         [-1.0000,  0.0902,  0.9843,  0.4902, -0.9843],\n",
            "         [-1.0000, -0.9137,  0.4902,  0.9843, -0.4510],\n",
            "         [-1.0000, -1.0000, -0.7255,  0.8902,  0.7647],\n",
            "         [-1.0000, -1.0000, -1.0000, -0.3647,  0.8824]]])\n"
          ]
        },
        {
          "output_type": "execute_result",
          "data": {
            "text/plain": [
              "(tensor(-1.), tensor(1.))"
            ]
          },
          "metadata": {},
          "execution_count": 2
        }
      ],
      "source": [
        "img, label = mnist[0]\n",
        "print('Label: ', label)\n",
        "print(img[:,10:15,10:15])\n",
        "torch.min(img), torch.max(img)"
      ]
    },
    {
      "cell_type": "markdown",
      "metadata": {
        "id": "3xOZQHezVZOE",
        "papermill": {
          "duration": 0.013308,
          "end_time": "2020-08-17T09:55:42.814142",
          "exception": false,
          "start_time": "2020-08-17T09:55:42.800834",
          "status": "completed"
        },
        "tags": []
      },
      "source": [
        "As expected, the pixel values range from -1 to 1. Let's define a helper to denormalize and view the images. This function will also be useful for viewing the generated images."
      ]
    },
    {
      "cell_type": "code",
      "execution_count": 3,
      "metadata": {
        "execution": {
          "iopub.execute_input": "2020-08-17T09:55:42.849271Z",
          "iopub.status.busy": "2020-08-17T09:55:42.848521Z",
          "iopub.status.idle": "2020-08-17T09:55:42.851013Z",
          "shell.execute_reply": "2020-08-17T09:55:42.851527Z"
        },
        "id": "GiM08EQuVZOE",
        "papermill": {
          "duration": 0.019789,
          "end_time": "2020-08-17T09:55:42.851649",
          "exception": false,
          "start_time": "2020-08-17T09:55:42.831860",
          "status": "completed"
        },
        "tags": []
      },
      "outputs": [],
      "source": [
        "def denorm(x):\n",
        "    out = (x + 1) / 2\n",
        "    return out.clamp(0, 1)"
      ]
    },
    {
      "cell_type": "code",
      "execution_count": 4,
      "metadata": {
        "colab": {
          "base_uri": "https://localhost:8080/",
          "height": 448
        },
        "execution": {
          "iopub.execute_input": "2020-08-17T09:55:42.883860Z",
          "iopub.status.busy": "2020-08-17T09:55:42.882727Z",
          "iopub.status.idle": "2020-08-17T09:55:43.083285Z",
          "shell.execute_reply": "2020-08-17T09:55:43.083826Z"
        },
        "id": "q8z7O5ZLVZOF",
        "outputId": "3ce1e8d1-797c-4d42-c835-068cf43f7cd6",
        "papermill": {
          "duration": 0.220307,
          "end_time": "2020-08-17T09:55:43.083967",
          "exception": false,
          "start_time": "2020-08-17T09:55:42.863660",
          "status": "completed"
        },
        "tags": []
      },
      "outputs": [
        {
          "output_type": "stream",
          "name": "stdout",
          "text": [
            "Label: 5\n"
          ]
        },
        {
          "output_type": "display_data",
          "data": {
            "text/plain": [
              "<Figure size 640x480 with 1 Axes>"
            ],
            "image/png": "[encoded data removed]"
          },
          "metadata": {}
        }
      ],
      "source": [
        "import matplotlib.pyplot as plt\n",
        "%matplotlib inline\n",
        "\n",
        "img_norm = denorm(img)\n",
        "plt.imshow(img_norm[0], cmap='gray')\n",
        "print('Label:', label)"
      ]
    },
    {
      "cell_type": "markdown",
      "metadata": {
        "id": "YpT-vul1VZOF",
        "papermill": {
          "duration": 0.013492,
          "end_time": "2020-08-17T09:55:43.111291",
          "exception": false,
          "start_time": "2020-08-17T09:55:43.097799",
          "status": "completed"
        },
        "tags": []
      },
      "source": [
        "Finally, let's create a dataloader to load the images in batches."
      ]
    },
    {
      "cell_type": "code",
      "execution_count": 5,
      "metadata": {
        "execution": {
          "iopub.execute_input": "2020-08-17T09:55:43.143065Z",
          "iopub.status.busy": "2020-08-17T09:55:43.142277Z",
          "iopub.status.idle": "2020-08-17T09:55:43.145197Z",
          "shell.execute_reply": "2020-08-17T09:55:43.145792Z"
        },
        "id": "LCe0U6iaVZOG",
        "papermill": {
          "duration": 0.021138,
          "end_time": "2020-08-17T09:55:43.145917",
          "exception": false,
          "start_time": "2020-08-17T09:55:43.124779",
          "status": "completed"
        },
        "tags": []
      },
      "outputs": [],
      "source": [
        "from torch.utils.data import DataLoader\n",
        "\n",
        "batch_size = 100\n",
        "data_loader = DataLoader(mnist, batch_size, shuffle=True)"
      ]
    },
    {
      "cell_type": "code",
      "source": [
        "\n",
        "train_loader = DataLoader(mnist, batch_size=100, shuffle=True)\n"
      ],
      "metadata": {
        "id": "MjeVF-A-S5Nc"
      },
      "execution_count": 20,
      "outputs": []
    },
    {
      "cell_type": "code",
      "source": [
        "mnist_test = MNIST(root='data',\n",
        "                   train=False,\n",
        "                   download=True,\n",
        "                   transform=Compose([ToTensor(), Normalize(mean=(0.5,), std=(0.5,))]))\n",
        "\n",
        "test_loader = DataLoader(mnist_test, batch_size=100, shuffle=False)\n"
      ],
      "metadata": {
        "id": "UONPvszTTjE3"
      },
      "execution_count": 21,
      "outputs": []
    },
    {
      "cell_type": "code",
      "execution_count": 6,
      "metadata": {
        "colab": {
          "base_uri": "https://localhost:8080/",
          "height": 559
        },
        "execution": {
          "iopub.execute_input": "2020-08-17T09:55:43.178132Z",
          "iopub.status.busy": "2020-08-17T09:55:43.177398Z",
          "iopub.status.idle": "2020-08-17T09:55:43.350810Z",
          "shell.execute_reply": "2020-08-17T09:55:43.350272Z"
        },
        "id": "hpsIHp7ZVZOG",
        "outputId": "0d527866-c85d-4334-a53e-38e3c71cd50f",
        "papermill": {
          "duration": 0.192473,
          "end_time": "2020-08-17T09:55:43.350929",
          "exception": false,
          "start_time": "2020-08-17T09:55:43.158456",
          "status": "completed"
        },
        "tags": []
      },
      "outputs": [
        {
          "output_type": "stream",
          "name": "stdout",
          "text": [
            "first batch\n",
            "torch.Size([100, 1, 28, 28])\n",
            "tensor([4, 5, 1, 6, 0, 0, 5, 5, 5, 9, 4, 5, 2, 8, 0, 3, 9, 1, 7, 4, 8, 9, 6, 2,\n",
            "        2, 3, 6, 0, 8, 2, 1, 9, 8, 0, 8, 1, 2, 3, 5, 1, 3, 8, 3, 8, 6, 1, 8, 4,\n",
            "        4, 3, 3, 0, 8, 2, 1, 1, 5, 3, 7, 8, 1, 3, 7, 8, 7, 2, 0, 9, 6, 8, 4, 8,\n",
            "        5, 5, 3, 6, 8, 4, 7, 4, 1, 3, 9, 3, 1, 6, 8, 8, 4, 6, 8, 6, 7, 0, 3, 1,\n",
            "        3, 4, 2, 2])\n"
          ]
        },
        {
          "output_type": "display_data",
          "data": {
            "text/plain": [
              "<Figure size 640x480 with 1 Axes>"
            ],
            "image/png": "[encoded data removed]"
          },
          "metadata": {}
        }
      ],
      "source": [
        "for img_batch, label_batch in data_loader:\n",
        "    print('first batch')\n",
        "    print(img_batch.shape)\n",
        "    plt.imshow(img_batch[0][0], cmap='gray')\n",
        "    print(label_batch)\n",
        "    break"
      ]
    },
    {
      "cell_type": "code",
      "execution_count": 7,
      "metadata": {
        "execution": {
          "iopub.execute_input": "2020-08-17T09:55:43.740949Z",
          "iopub.status.busy": "2020-08-17T09:55:43.739949Z",
          "iopub.status.idle": "2020-08-17T09:55:43.742791Z",
          "shell.execute_reply": "2020-08-17T09:55:43.742276Z"
        },
        "id": "gGVg8kZ8VZOH",
        "papermill": {
          "duration": 0.352355,
          "end_time": "2020-08-17T09:55:43.742903",
          "exception": false,
          "start_time": "2020-08-17T09:55:43.390548",
          "status": "completed"
        },
        "tags": []
      },
      "outputs": [],
      "source": [
        "# Device configuration\n",
        "device = torch.device('cuda' if torch.cuda.is_available() else 'cpu')"
      ]
    },
    {
      "cell_type": "code",
      "execution_count": 8,
      "metadata": {
        "colab": {
          "base_uri": "https://localhost:8080/"
        },
        "execution": {
          "iopub.execute_input": "2020-08-17T09:55:43.774672Z",
          "iopub.status.busy": "2020-08-17T09:55:43.773773Z",
          "iopub.status.idle": "2020-08-17T09:55:43.777927Z",
          "shell.execute_reply": "2020-08-17T09:55:43.777403Z"
        },
        "id": "eerZtGkIVZOH",
        "outputId": "49e68cc1-76f8-4178-d2e2-da90f02793f3",
        "papermill": {
          "duration": 0.021476,
          "end_time": "2020-08-17T09:55:43.778025",
          "exception": false,
          "start_time": "2020-08-17T09:55:43.756549",
          "status": "completed"
        },
        "tags": []
      },
      "outputs": [
        {
          "output_type": "execute_result",
          "data": {
            "text/plain": [
              "device(type='cuda')"
            ]
          },
          "metadata": {},
          "execution_count": 8
        }
      ],
      "source": [
        "device"
      ]
    },
    {
      "cell_type": "markdown",
      "metadata": {
        "id": "ucDnjznxVZOI",
        "papermill": {
          "duration": 0.012711,
          "end_time": "2020-08-17T09:55:43.803739",
          "exception": false,
          "start_time": "2020-08-17T09:55:43.791028",
          "status": "completed"
        },
        "tags": []
      },
      "source": [
        "## 1. Discriminator Network\n",
        "\n",
        "The discriminator takes an image as input, and tries to classify it as \"real\" or \"generated\". In this sense, it's like any other neural network. While we can use a CNN for the discriminator, we'll use a simple feedforward network with 3 linear layers to keep things since. We'll treat each 28x28 image as a vector of size 784."
      ]
    },
    {
      "cell_type": "code",
      "execution_count": 10,
      "metadata": {
        "execution": {
          "iopub.execute_input": "2020-08-17T09:55:43.835108Z",
          "iopub.status.busy": "2020-08-17T09:55:43.834087Z",
          "iopub.status.idle": "2020-08-17T09:55:43.837279Z",
          "shell.execute_reply": "2020-08-17T09:55:43.836767Z"
        },
        "id": "jvY1GM2YVZOI",
        "papermill": {
          "duration": 0.020292,
          "end_time": "2020-08-17T09:55:43.837398",
          "exception": false,
          "start_time": "2020-08-17T09:55:43.817106",
          "status": "completed"
        },
        "tags": []
      },
      "outputs": [],
      "source": [
        "image_size = 784\n",
        "hidden_size = 256"
      ]
    },
    {
      "cell_type": "code",
      "execution_count": 12,
      "metadata": {
        "execution": {
          "iopub.execute_input": "2020-08-17T09:55:43.870357Z",
          "iopub.status.busy": "2020-08-17T09:55:43.869636Z",
          "iopub.status.idle": "2020-08-17T09:55:43.876096Z",
          "shell.execute_reply": "2020-08-17T09:55:43.875605Z"
        },
        "id": "3JsKEAb9VZOI",
        "papermill": {
          "duration": 0.025096,
          "end_time": "2020-08-17T09:55:43.876208",
          "exception": false,
          "start_time": "2020-08-17T09:55:43.851112",
          "status": "completed"
        },
        "tags": []
      },
      "outputs": [],
      "source": [
        "import torch.nn as nn\n",
        "\n",
        "D = nn.Sequential(\n",
        "  nn.Linear(784, 512),\n",
        "    nn.LeakyReLU(0.2),\n",
        "    nn.Linear(512, 256),\n",
        "    nn.LeakyReLU(0.2),\n",
        "    nn.Linear(256, 1),\n",
        "    nn.Sigmoid()\n",
        "\n",
        ")"
      ]
    },
    {
      "cell_type": "code",
      "execution_count": 13,
      "metadata": {
        "execution": {
          "iopub.execute_input": "2020-08-17T09:55:43.938968Z",
          "iopub.status.busy": "2020-08-17T09:55:43.938202Z",
          "iopub.status.idle": "2020-08-17T09:55:50.942528Z",
          "shell.execute_reply": "2020-08-17T09:55:50.943042Z"
        },
        "id": "K1fmWLNnVZOJ",
        "papermill": {
          "duration": 7.026268,
          "end_time": "2020-08-17T09:55:50.943194",
          "exception": false,
          "start_time": "2020-08-17T09:55:43.916926",
          "status": "completed"
        },
        "tags": []
      },
      "outputs": [],
      "source": [
        "D.to(device);"
      ]
    },
    {
      "cell_type": "markdown",
      "metadata": {
        "id": "GaXQ0sDKVZOJ",
        "papermill": {
          "duration": 0.013316,
          "end_time": "2020-08-17T09:55:50.970787",
          "exception": false,
          "start_time": "2020-08-17T09:55:50.957471",
          "status": "completed"
        },
        "tags": []
      },
      "source": [
        "## 2. Build Generator Network\n",
        "\n",
        "The input to the generator is typically a vector or a matrix which is used as a seed for generating an image. Once again, to keep things simple, we'll use a feedfoward neural network with 3 layers, and the output will be a vector of size 784, which can be transformed to a 28x28 px image."
      ]
    },
    {
      "cell_type": "markdown",
      "metadata": {
        "id": "y9cY38gMVZOK",
        "papermill": {
          "duration": 0.013729,
          "end_time": "2020-08-17T09:55:51.070415",
          "exception": false,
          "start_time": "2020-08-17T09:55:51.056686",
          "status": "completed"
        },
        "tags": []
      },
      "source": [
        "We use the TanH activation function for the output layer of the generator.\n",
        "\n",
        "<img src=\"https://nic.schraudolph.org/teach/NNcourse/figs/tanh.gif\" width=\"420\" >\n",
        "\n",
        "> \"The ReLU activation (Nair & Hinton, 2010) is used in the generator with the exception of the output layer which uses the Tanh function. We observed that using a bounded activation allowed the model to learn more quickly to saturate and cover the color space of the training distribution. Within the discriminator we found the leaky rectified activation (Maas et al., 2013) (Xu et al., 2015) to work well, especially for higher resolution modeling.\" - [Source](https://stackoverflow.com/questions/41489907/generative-adversarial-networks-tanh)\n",
        "\n",
        "\n",
        "Note that since the outputs of the TanH activation lie in the range `[-1,1]`, we have applied the same transformation to the images in the training dataset. Let's generate an output vector using the generator and view it as an image by transforming and denormalizing the output."
      ]
    },
    {
      "cell_type": "code",
      "execution_count": 14,
      "metadata": {
        "execution": {
          "iopub.execute_input": "2020-08-17T09:55:51.001873Z",
          "iopub.status.busy": "2020-08-17T09:55:51.001092Z",
          "iopub.status.idle": "2020-08-17T09:55:51.003649Z",
          "shell.execute_reply": "2020-08-17T09:55:51.004145Z"
        },
        "id": "yKyIpUuuVZOJ",
        "papermill": {
          "duration": 0.01996,
          "end_time": "2020-08-17T09:55:51.004261",
          "exception": false,
          "start_time": "2020-08-17T09:55:50.984301",
          "status": "completed"
        },
        "tags": []
      },
      "outputs": [],
      "source": [
        "latent_size = 64"
      ]
    },
    {
      "cell_type": "code",
      "execution_count": 18,
      "metadata": {
        "execution": {
          "iopub.execute_input": "2020-08-17T09:55:51.037163Z",
          "iopub.status.busy": "2020-08-17T09:55:51.036261Z",
          "iopub.status.idle": "2020-08-17T09:55:51.042579Z",
          "shell.execute_reply": "2020-08-17T09:55:51.042077Z"
        },
        "id": "KMPJ-D8wVZOK",
        "papermill": {
          "duration": 0.024698,
          "end_time": "2020-08-17T09:55:51.042678",
          "exception": false,
          "start_time": "2020-08-17T09:55:51.017980",
          "status": "completed"
        },
        "tags": []
      },
      "outputs": [],
      "source": [
        "G = nn.Sequential(\n",
        "    nn.Linear(100, 256),\n",
        "    nn.ReLU(),\n",
        "    nn.Linear(256, 512),\n",
        "    nn.ReLU(),\n",
        "    nn.Linear(512, 784),\n",
        "    nn.Tanh())"
      ]
    },
    {
      "cell_type": "markdown",
      "metadata": {
        "id": "EEnpJkMfVZON",
        "papermill": {
          "duration": 0.014736,
          "end_time": "2020-08-17T09:55:51.840863",
          "exception": false,
          "start_time": "2020-08-17T09:55:51.826127",
          "status": "completed"
        },
        "tags": []
      },
      "source": [
        "## 3. Train the Model\n",
        "\n",
        "* train the model\n",
        "* save samples of generated images after each epoch -> use the ``denorm()`` function"
      ]
    },
    {
      "cell_type": "code",
      "source": [],
      "metadata": {
        "id": "O5_E2Lc9SUOz"
      },
      "execution_count": null,
      "outputs": []
    },
    {
      "cell_type": "code",
      "execution_count": 22,
      "metadata": {
        "id": "c_qDyuGul5uu",
        "outputId": "74a6b3d9-9e11-436f-a456-4ef772c9ba70",
        "colab": {
          "base_uri": "https://localhost:8080/"
        }
      },
      "outputs": [
        {
          "output_type": "stream",
          "name": "stdout",
          "text": [
            "Epoch [1/20], d_loss: 0.3680, g_loss: 3.7062\n",
            "Epoch [2/20], d_loss: 0.1737, g_loss: 6.1316\n",
            "Epoch [3/20], d_loss: 0.4180, g_loss: 3.1643\n",
            "Epoch [4/20], d_loss: 0.2949, g_loss: 4.9206\n",
            "Epoch [5/20], d_loss: 0.5467, g_loss: 4.0826\n",
            "Epoch [6/20], d_loss: 0.1621, g_loss: 4.0987\n",
            "Epoch [7/20], d_loss: 0.1042, g_loss: 5.1251\n",
            "Epoch [8/20], d_loss: 0.1340, g_loss: 7.0947\n",
            "Epoch [9/20], d_loss: 0.2013, g_loss: 3.1688\n",
            "Epoch [10/20], d_loss: 0.1534, g_loss: 7.5728\n",
            "Epoch [11/20], d_loss: 0.2043, g_loss: 4.1242\n",
            "Epoch [12/20], d_loss: 0.3596, g_loss: 9.2101\n",
            "Epoch [13/20], d_loss: 0.1518, g_loss: 5.9045\n",
            "Epoch [14/20], d_loss: 0.2494, g_loss: 5.5386\n",
            "Epoch [15/20], d_loss: 0.2611, g_loss: 4.9727\n",
            "Epoch [16/20], d_loss: 0.1345, g_loss: 3.7981\n",
            "Epoch [17/20], d_loss: 0.1730, g_loss: 4.8867\n",
            "Epoch [18/20], d_loss: 0.1750, g_loss: 5.3254\n",
            "Epoch [19/20], d_loss: 0.2861, g_loss: 4.7931\n",
            "Epoch [20/20], d_loss: 0.3815, g_loss: 4.8822\n",
            "Training abgeschlossen.\n"
          ]
        }
      ],
      "source": [
        "import torch\n",
        "import torch.nn as nn\n",
        "import torch.optim as optim\n",
        "import matplotlib.pyplot as plt\n",
        "from torchvision.utils import save_image\n",
        "\n",
        "def denorm(x):\n",
        "    return (x + 1) / 2\n",
        "\n",
        "# Loss & Optimizer\n",
        "criterion = nn.BCELoss()\n",
        "lr = 0.0002\n",
        "G_optimizer = optim.Adam(G.parameters(), lr=lr)\n",
        "D_optimizer = optim.Adam(D.parameters(), lr=lr)\n",
        "\n",
        "num_epochs = 20\n",
        "z_dim = 100\n",
        "fixed_z = torch.randn(16, z_dim).to(device)\n",
        "\n",
        "G.to(device)\n",
        "D.to(device)\n",
        "\n",
        "for epoch in range(num_epochs):\n",
        "    for real_imgs, _ in train_loader:\n",
        "        batch_size = real_imgs.size(0)\n",
        "        real_imgs = real_imgs.view(batch_size, -1).to(device)\n",
        "\n",
        "\n",
        "        real_labels = torch.ones(batch_size, 1).to(device)\n",
        "        fake_labels = torch.zeros(batch_size, 1).to(device)\n",
        "\n",
        "\n",
        "        z = torch.randn(batch_size, z_dim).to(device)\n",
        "        fake_imgs = G(z)\n",
        "\n",
        "        real_outputs = D(real_imgs)\n",
        "        fake_outputs = D(fake_imgs.detach())\n",
        "\n",
        "        d_loss_real = criterion(real_outputs, real_labels)\n",
        "        d_loss_fake = criterion(fake_outputs, fake_labels)\n",
        "        d_loss = d_loss_real + d_loss_fake\n",
        "\n",
        "        D_optimizer.zero_grad()\n",
        "        d_loss.backward()\n",
        "        D_optimizer.step()\n",
        "\n",
        "\n",
        "        z = torch.randn(batch_size, z_dim).to(device)\n",
        "        fake_imgs = G(z)\n",
        "        fake_outputs = D(fake_imgs)\n",
        "        g_loss = criterion(fake_outputs, real_labels)\n",
        "\n",
        "        G_optimizer.zero_grad()\n",
        "        g_loss.backward()\n",
        "        G_optimizer.step()\n",
        "\n",
        "    print(f\"Epoch [{epoch+1}/{num_epochs}], d_loss: {d_loss.item():.4f}, g_loss: {g_loss.item():.4f}\")\n",
        "\n",
        "\n",
        "    with torch.no_grad():\n",
        "        fake_images = G(fixed_z).view(-1, 1, 28, 28)\n",
        "        save_image(denorm(fake_images), f\"generated_epoch_{epoch+1}.png\", nrow=4)\n",
        "\n",
        "print(\"Training abgeschlossen.\")\n"
      ]
    }
  ],
  "metadata": {
    "accelerator": "GPU",
    "colab": {
      "name": "assignment_mnistGAN_solution.ipynb",
      "provenance": []
    },
    "kernelspec": {
      "display_name": "Python 3",
      "language": "python",
      "name": "python3"
    },
    "language_info": {
      "codemirror_mode": {
        "name": "ipython",
        "version": 3
      },
      "file_extension": ".py",
      "mimetype": "text/x-python",
      "name": "python",
      "nbconvert_exporter": "python",
      "pygments_lexer": "ipython3",
      "version": "3.7.6"
    },
    "papermill": {
      "duration": 3906.147471,
      "end_time": "2020-08-17T11:00:34.587734",
      "environment_variables": {},
      "exception": null,
      "input_path": "__notebook__.ipynb",
      "output_path": "__notebook__.ipynb",
      "parameters": {},
      "start_time": "2020-08-17T09:55:28.440263",
      "version": "2.1.0"
    }
  },
  "nbformat": 4,
  "nbformat_minor": 0
}